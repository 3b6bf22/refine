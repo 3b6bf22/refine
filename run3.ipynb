{
 "cells": [
  {
   "cell_type": "code",
   "execution_count": 2,
   "id": "b3f5a385",
   "metadata": {},
   "outputs": [],
   "source": [
    "cmd = \"\"\"\n",
    "CUDA_VISIBLE_DEVICES=4 python ridge.py --model RFLAF --data adult --epochs 10 --h 0.0625 --N 65 --M 5000 --modelseed 202025 &\n",
    "CUDA_VISIBLE_DEVICES=5 python ridge.py --model RFLAF --data adult --epochs 10 --h 0.0625 --N 65 --M 5000 --modelseed 402025 &\n",
    "\"\"\""
   ]
  },
  {
   "cell_type": "code",
   "execution_count": 3,
   "id": "ccc1aacc",
   "metadata": {},
   "outputs": [],
   "source": [
    "import subprocess\n",
    "with open('demo65rbfsup4.txt', 'w') as f:\n",
    "    subprocess.run(cmd, shell=True, stdout=f, stderr=subprocess.STDOUT)"
   ]
  },
  {
   "cell_type": "code",
   "execution_count": null,
   "id": "2de6c810",
   "metadata": {},
   "outputs": [],
   "source": []
  }
 ],
 "metadata": {
  "kernelspec": {
   "display_name": "rflaf",
   "language": "python",
   "name": "python3"
  },
  "language_info": {
   "codemirror_mode": {
    "name": "ipython",
    "version": 3
   },
   "file_extension": ".py",
   "mimetype": "text/x-python",
   "name": "python",
   "nbconvert_exporter": "python",
   "pygments_lexer": "ipython3",
   "version": "3.12.9"
  }
 },
 "nbformat": 4,
 "nbformat_minor": 5
}
