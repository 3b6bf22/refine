{
 "cells": [
  {
   "cell_type": "code",
   "execution_count": 3,
   "id": "0318dae1",
   "metadata": {},
   "outputs": [],
   "source": [
    "cmd = \"\"\"\n",
    "CUDA_VISIBLE_DEVICES=7 python ridge.py --model RFLAF --data workloads --epochs 20 --h 0.0625 --N 65 --M 1000 --modelseed 302025 &\n",
    "CUDA_VISIBLE_DEVICES=7 python ridge.py --model RFLAF --data workloads --epochs 20 --h 0.0625 --N 65 --M 1000 --modelseed 402025 &\n",
    "\"\"\""
   ]
  },
  {
   "cell_type": "code",
   "execution_count": 4,
   "id": "86348eb5",
   "metadata": {},
   "outputs": [],
   "source": [
    "import subprocess\n",
    "with open('demo65rbfsup2.txt', 'w') as f:\n",
    "    subprocess.run(cmd, shell=True, stdout=f, stderr=subprocess.STDOUT)"
   ]
  },
  {
   "cell_type": "code",
   "execution_count": 5,
   "id": "110b4377",
   "metadata": {},
   "outputs": [
    {
     "name": "stdout",
     "output_type": "stream",
     "text": [
      "Using device: cuda\n",
      "GPU: 7\n",
      "Loading weight matrix...\n",
      "Use datasets: workloads\n",
      "train size: 159875\n",
      "test size: 39968\n",
      "Calculating leverage scores...\n",
      "weight matrix size [d, M]: (6, 1000)\n",
      "coef size: [N] 65\n",
      "Dataset: workloads, effective dimension=34404.01\n",
      "Weighet sampling RF number: 【newM=10】\n",
      "Loading data workloads\n",
      "Data dimension: 6\n",
      "Use datasets: workloads\n",
      "train size: 159875\n",
      "test size: 39968\n",
      "Finished loading data workloads\n",
      "Using model RFLAF, modelseed=302025\n",
      "RBF params:\th=0.0625\tN=65\tL=-2\tR=2\n",
      "weight matrix size [d, M]: (6, 10)\n",
      "coef size: [N] 65\n",
      "Start training model RFLAF on data workloads...\n",
      "Traceback (most recent call last):                                              \n",
      "  File \"/home/mazailin/refined2/ridge.py\", line 401, in <module>\n",
      "    train_losses, test_losses, train_accuracies, test_accuracies, train_time, test_time = train()\n",
      "                                                                                          ^^^^^^^\n",
      "  File \"/home/mazailin/refined2/ridge.py\", line 257, in train\n",
      "    outputs = model(images)\n",
      "              ^^^^^^^^^^^^^\n",
      "  File \"/home/mazailin/miniconda3/envs/rflaf/lib/python3.12/site-packages/torch/nn/modules/module.py\", line 1751, in _wrapped_call_impl\n",
      "    return self._call_impl(*args, **kwargs)\n",
      "           ^^^^^^^^^^^^^^^^^^^^^^^^^^^^^^^^\n",
      "  File \"/home/mazailin/miniconda3/envs/rflaf/lib/python3.12/site-packages/torch/nn/modules/module.py\", line 1762, in _call_impl\n",
      "    return forward_call(*args, **kwargs)\n",
      "           ^^^^^^^^^^^^^^^^^^^^^^^^^^^^^\n",
      "  File \"/home/mazailin/refined2/RFLAF_model.py\", line 94, in forward\n",
      "    A = torch.stack([rbf(xW) for rbf in self.rbfs], dim=2) # [batch_size, M, N]\n",
      "                     ^^^^^^^\n",
      "  File \"/home/mazailin/miniconda3/envs/rflaf/lib/python3.12/site-packages/torch/nn/modules/module.py\", line 1751, in _wrapped_call_impl\n",
      "    return self._call_impl(*args, **kwargs)\n",
      "           ^^^^^^^^^^^^^^^^^^^^^^^^^^^^^^^^\n",
      "  File \"/home/mazailin/miniconda3/envs/rflaf/lib/python3.12/site-packages/torch/nn/modules/module.py\", line 1762, in _call_impl\n",
      "    return forward_call(*args, **kwargs)\n",
      "           ^^^^^^^^^^^^^^^^^^^^^^^^^^^^^\n",
      "  File \"/home/mazailin/refined2/RFLAF_model.py\", line 14, in forward\n",
      "    return torch.exp(result)\n",
      "           ^^^^^^^^^^^^^^^^^\n",
      "KeyboardInterrupt\n",
      "^C\n",
      "Exception ignored in atexit callback: <bound method TemporaryDirectory.cleanup of <TemporaryDirectory '/tmp/tmpyd9yol8m'>>\n",
      "Traceback (most recent call last):\n",
      "  File \"/home/mazailin/miniconda3/envs/rflaf/lib/python3.12/tempfile.py\", line 950, in cleanup\n",
      "    self._rmtree(self.name, ignore_errors=self._ignore_cleanup_errors)\n",
      "  File \"/home/mazailin/miniconda3/envs/rflaf/lib/python3.12/tempfile.py\", line 930, in _rmtree\n",
      "    _shutil.rmtree(name, onexc=onexc)\n",
      "  File \"/home/mazailin/miniconda3/envs/rflaf/lib/python3.12/shutil.py\", line 759, in rmtree\n",
      "    _rmtree_safe_fd(stack, onexc)\n",
      "  File \"/home/mazailin/miniconda3/envs/rflaf/lib/python3.12/shutil.py\", line 669, in _rmtree_safe_fd\n",
      "    orig_st = os.lstat(name, dir_fd=dirfd)\n",
      "              ^^^^^^^^^^^^^^^^^^^^^^^^^^^^\n",
      "KeyboardInterrupt: \n"
     ]
    }
   ],
   "source": [
    "! CUDA_VISIBLE_DEVICES=7 python ridge.py --model RFLAF --data workloads --epochs 20 --h 0.0625 --N 65 --M 1000 --modelseed 302025"
   ]
  },
  {
   "cell_type": "code",
   "execution_count": null,
   "id": "ae2e7251",
   "metadata": {},
   "outputs": [],
   "source": []
  }
 ],
 "metadata": {
  "kernelspec": {
   "display_name": "rflaf",
   "language": "python",
   "name": "python3"
  },
  "language_info": {
   "codemirror_mode": {
    "name": "ipython",
    "version": 3
   },
   "file_extension": ".py",
   "mimetype": "text/x-python",
   "name": "python",
   "nbconvert_exporter": "python",
   "pygments_lexer": "ipython3",
   "version": "3.12.9"
  }
 },
 "nbformat": 4,
 "nbformat_minor": 5
}
